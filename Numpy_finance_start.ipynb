{
 "cells": [
  {
   "cell_type": "markdown",
   "metadata": {},
   "source": [
    "# Numpy & Finance"
   ]
  },
  {
   "cell_type": "markdown",
   "metadata": {},
   "source": [
    "As a business analyst, we may be asked to evaluate opportunities and need to calculate **present values (PV), future values (FV), net present value (NPV) and internal rates of retrun (IRR)**.\n",
    "\n",
    "Luckily for us, there is a module called numpy which contains many functions which will make your life much easier when working with financial values."
   ]
  },
  {
   "cell_type": "code",
   "execution_count": 1,
   "metadata": {},
   "outputs": [],
   "source": [
    "import numpy as np"
   ]
  },
  {
   "cell_type": "markdown",
   "metadata": {},
   "source": [
    "## Present Value"
   ]
  },
  {
   "cell_type": "markdown",
   "metadata": {},
   "source": [
    "The ```.pv(rate, nper, pmt, fv)``` function, for example, allows you to calculate the present value of an investment as before with a few simple parameters:\n",
    "\n",
    "- rate: The rate of return of the investment\n",
    "- nper: The lifespan of the investment\n",
    "- fv: The future value of the investment\n",
    "\n",
    "You can use this formula in many ways, for example, to calculate the present value of future investments in today's dollars."
   ]
  },
  {
   "cell_type": "code",
   "execution_count": 2,
   "metadata": {},
   "outputs": [
    {
     "name": "stdout",
     "output_type": "stream",
     "text": [
      "Investment 1 is worth 6418.62 in today's dollars\n",
      "Investment 2 is worth 6139.13 in today's dollars\n"
     ]
    }
   ],
   "source": [
    "# Calculate investment_1\n",
    "investment_1 = np.pv(rate=0.03, nper=15, pmt=0, fv=10000)\n",
    "\n",
    "# Note that the present value returned is negative, so we multiply the result by -1\n",
    "print(\"Investment 1 is worth \" + str(round(-investment_1, 2)) + \" in today's dollars\")\n",
    "\n",
    "# Calculate investment_2\n",
    "investment_2 = np.pv(rate=0.05, nper=10, pmt=0, fv=10000)\n",
    "print(\"Investment 2 is worth \" + str(round(-investment_2, 2)) + \" in today's dollars\")\n"
   ]
  },
  {
   "cell_type": "markdown",
   "metadata": {},
   "source": [
    "## Future Value"
   ]
  },
  {
   "cell_type": "markdown",
   "metadata": {},
   "source": [
    "The numpy module also contains a similar function, ```.fv(rate, nper, pmt, pv)```, which allows you to calculate the present value of an investment as before with a few simple parameters:\n",
    "\n",
    "- rate: The rate of return of the investment\n",
    "- nper: The lifespan of the investment\n",
    "- pv: The present value of the investment\n",
    "\n",
    "It is important to note that in this function call, you must pass a negative value into the ```pv``` parameter if it represents a negative cash flow (cash going out). In other words, if you were to compute the future value of an investment, requiring an up-front cash payment, you would need to pass a negative value into the ```.fv()``` function for the ```pv``` parameter."
   ]
  },
  {
   "cell_type": "code",
   "execution_count": 4,
   "metadata": {},
   "outputs": [
    {
     "name": "stdout",
     "output_type": "stream",
     "text": [
      "Investment 3 will yield a total of $20789.28 in 15 years\n",
      "Investment 4 will yield a total of $23316.39 in 11 years\n"
     ]
    }
   ],
   "source": [
    "# Caculate investment_1\n",
    "investment_3 = np.fv(rate=0.05, nper=15, pmt=0, pv=-10000)\n",
    "print(\"Investment 3 will yield a total of $\" + str(round(investment_3, 2)) + \" in 15 years\")\n",
    "\n",
    "# Caculate investment_2\n",
    "investment_4 = np.fv(rate=0.08, nper=11, pmt=0, pv=-10000)\n",
    "print(\"Investment 4 will yield a total of $\" + str(round(investment_4, 2)) + \" in 11 years\")"
   ]
  },
  {
   "cell_type": "markdown",
   "metadata": {},
   "source": [
    "## Discounting Cash Flows"
   ]
  },
  {
   "cell_type": "markdown",
   "metadata": {},
   "source": [
    "You can use numpy's net present value function ```numpy.npv(rate, values)``` to calculate the net present value of a series of cash flows. You can create these cash flows by using a ```numpy.array([...])``` of values."
   ]
  },
  {
   "cell_type": "markdown",
   "metadata": {},
   "source": [
    "Compute the NPV of the same cash flows from the following project, but assuming different discount rates.\n",
    "\n",
    "| year | return (USD)   |\n",
    "|------|------|\n",
    "|   1  | 100 |\n",
    "|   2  | 100 |\n",
    "|   3  | 100 |\n",
    "|   4  | 100 |\n",
    "|   5  | 100 |\n"
   ]
  },
  {
   "cell_type": "code",
   "execution_count": 5,
   "metadata": {},
   "outputs": [
    {
     "name": "stdout",
     "output_type": "stream",
     "text": [
      "Investment 1's net present value is $471.71 in today's dollars\n",
      "Investment 2's net present value is $454.6 in today's dollars\n",
      "Investment 3's net present value is $438.72 in today's dollars\n"
     ]
    }
   ],
   "source": [
    "# Predefined array of cash flows\n",
    "cash_flows = np.array([100, 100, 100, 100, 100])\n",
    "\n",
    "# Calculate investment_1\n",
    "investment_1 = np.npv(rate=0.03, values=cash_flows)\n",
    "print(\"Investment 1's net present value is $\" + str(round(investment_1, 2)) + \" in today's dollars\")\n",
    "\n",
    "# Calculate investment_2\n",
    "investment_2 = np.npv(rate=0.05, values=cash_flows)\n",
    "print(\"Investment 2's net present value is $\" + str(round(investment_2, 2)) + \" in today's dollars\")\n",
    "\n",
    "# Calculate investment_3\n",
    "investment_3 = np.npv(rate=0.07, values=cash_flows)\n",
    "print(\"Investment 3's net present value is $\" + str(round(investment_3, 2)) + \" in today's dollars\")"
   ]
  },
  {
   "cell_type": "markdown",
   "metadata": {},
   "source": [
    "### Initial Project Costs\n",
    "The ```numpy.npv(rate, values)``` function is very powerful because it allows you to pass in both positive and negative values.\n",
    "\n",
    "For this exercise, you will calculate the net present value of two potential projects with different cash flows as follows:\n",
    "\n",
    "|Year\t|Project 1\t|Project 2|\n",
    "|---|---|---|\n",
    "|1\t|-250 (initial investment)|\t-250 (initial investment)\n",
    "|2\t|100 cash flow\t|300 cash flow\n",
    "|3\t|200 cash flow\t|-250 (net investment)\n",
    "|4\t|300 cash flow\t|300 cash flow\n",
    "|5\t|400 cash flow\t|300 cash flow\n",
    "\n",
    "In this example, project 1 only requires an initial investment of 250, generating a slowly increasing series of cash flows over the next 4 years.\n",
    "\n",
    "Project 2, on the other hand, requires an initial investment of 250 but also another investment of 250 in year 2. However, project 2 continues to generate larger cash flows.\n",
    "\n",
    "Assuming both projects don't generate any more cash flows after the fifth year, which project would you decide to undertake? The best way to decide is by comparing the NPV of both projects."
   ]
  },
  {
   "cell_type": "code",
   "execution_count": 6,
   "metadata": {},
   "outputs": [
    {
     "name": "stdout",
     "output_type": "stream",
     "text": [
      "The net present value of Investment 1 is worth $665.54 in today's dollars\n",
      "The net present value of Investment 2 is worth $346.7 in today's dollars\n"
     ]
    }
   ],
   "source": [
    "# Create an array of cash flows for project 1\n",
    "cash_flows_1 = np.array([-250, 100, 200, 300, 400])\n",
    "\n",
    "# Create an array of cash flows for project 2\n",
    "cash_flows_2 = np.array([-250, 300, -250, 300, 300])\n",
    "\n",
    "# Calculate the net present value of project 1\n",
    "investment_1 = np.npv(rate=0.03, values=cash_flows_1)\n",
    "print(\"The net present value of Investment 1 is worth $\" + str(round(investment_1, 2)) + \" in today's dollars\")\n",
    "\n",
    "# Calculate the net present value of project 2\n",
    "investment_2 = np.npv(rate=0.03, values=cash_flows_2)\n",
    "print(\"The net present value of Investment 2 is worth $\" + str(round(investment_2, 2)) + \" in today's dollars\")"
   ]
  },
  {
   "cell_type": "markdown",
   "metadata": {},
   "source": [
    "## Internal Rate of Return"
   ]
  },
  {
   "cell_type": "markdown",
   "metadata": {},
   "source": [
    "**Project Proposals and Cash Flows Projections**\n",
    "Your project management office has projected the cash flows for two proposals.\n",
    "\n",
    "Project 1 provides higher short term cash flows, but Project 2 becomes more profitable over time.\n",
    "\n",
    "The cash flow projections for both projects are as follows:\n",
    "\n",
    "|Year\t|Project 1\t|Project 2|\n",
    "|---|---|---|\n",
    "|1\t|-1,000 (initial investment)|\t-1,000 (initial investment)|\n",
    "|2\t|200 (cash flow)\t|150 (cash flow)|\n",
    "|3\t|250\t|225|\n",
    "|4\t|300\t|300|\n",
    "|5\t|350\t|375|\n",
    "|6\t|400\t|425|\n",
    "|7\t|450\t|500|\n",
    "|8\t|500\t|575|\n",
    "|9\t|550\t|600|\n",
    "|10\t|600\t|625|\n",
    "\n",
    "Note: The projections are provided in thousands. For example, 1,000 = 1,000,000. We will use the smaller denominations to make everything easier to read. This is also commonly done in financial statements with thousands or even millions in order to represent millions or billions."
   ]
  },
  {
   "cell_type": "code",
   "execution_count": 7,
   "metadata": {},
   "outputs": [],
   "source": [
    "# Create a numpy array of cash flows for Project 1\n",
    "cf_project_1 = np.array([-1000, 200, 250, 300, 350, 400, 450, 500, 550, 600])\n",
    "\n",
    "# Create a numpy array of cash flows for Project 2\n",
    "cf_project_2 = np.array([-1000, 150, 225, 300, 375, 425, 500, 575, 600, 625])\n",
    "\n",
    "# Scale the original objects by 1000x\n",
    "cf_project1 = cf_project_1 * 1000\n",
    "cf_project2 = cf_project_2 * 1000"
   ]
  },
  {
   "cell_type": "code",
   "execution_count": 8,
   "metadata": {},
   "outputs": [
    {
     "name": "stdout",
     "output_type": "stream",
     "text": [
      "Project 1 IRR: 28.92%\n",
      "Project 2 IRR: 28.78%\n"
     ]
    }
   ],
   "source": [
    "# Calculate the internal rate of return for Project 1\n",
    "irr_project1 = np.irr(cf_project1)\n",
    "print(\"Project 1 IRR: \" + str(round(100*irr_project1, 2)) + \"%\")\n",
    "\n",
    "# Calculate the internal rate of return for Project 2\n",
    "irr_project2 = np.irr(cf_project2)\n",
    "print(\"Project 2 IRR: \" + str(round(100*irr_project2, 2)) + \"%\")"
   ]
  },
  {
   "cell_type": "markdown",
   "metadata": {},
   "source": [
    "## Who wants to be a millionaire?\n",
    "You want to be a millionaire, retire young, and sip margaritas on a beautiful beach. In order to do that, you're going to need to invest.\n",
    "\n",
    "Let's use the **.pmt()** function from numpy to calculate how much you need to save each month in order to accumulate your desired wealth over time.\n",
    "\n",
    "You still have a lot to learn about the stock market, but your financial advisor told you that you can earn anywhere from 5-10% per year on your capital on average by investing in a good index fund.\n",
    "\n",
    "You know that the stock market doesn't always go up, but you will assume a modest yearly return. (The average annual return in the US stock market from 1950-2009 was 7%.)"
   ]
  },
  {
   "cell_type": "code",
   "execution_count": 12,
   "metadata": {},
   "outputs": [],
   "source": [
    "years = 15\n",
    "rate_annual = 0.12"
   ]
  },
  {
   "cell_type": "markdown",
   "metadata": {},
   "source": [
    "This code will convert the yearly rate of return to monthly...which is usually how people invest."
   ]
  },
  {
   "cell_type": "code",
   "execution_count": 13,
   "metadata": {},
   "outputs": [],
   "source": [
    "rate_monthly = (1+rate_annual)**(1/12) - 1\n",
    "months = years * 12"
   ]
  },
  {
   "cell_type": "markdown",
   "metadata": {},
   "source": [
    "Using the numpy pmt function, we can pass in the monthly rate, number of months, and future value."
   ]
  },
  {
   "cell_type": "code",
   "execution_count": 14,
   "metadata": {},
   "outputs": [
    {
     "name": "stdout",
     "output_type": "stream",
     "text": [
      "You will have to invest $2121.08 per month to amass $1M over 15 years\n"
     ]
    }
   ],
   "source": [
    "monthly_investment = np.pmt(rate=rate_monthly, nper=months, pv=0, fv=-1000000)\n",
    "print(\"You will have to invest $\" + str(round(monthly_investment, 2)) + \" per month to amass $1M over \" + str(years) + \" years\")"
   ]
  },
  {
   "cell_type": "code",
   "execution_count": null,
   "metadata": {},
   "outputs": [],
   "source": []
  }
 ],
 "metadata": {
  "kernelspec": {
   "display_name": "Python 3",
   "language": "python",
   "name": "python3"
  },
  "language_info": {
   "codemirror_mode": {
    "name": "ipython",
    "version": 3
   },
   "file_extension": ".py",
   "mimetype": "text/x-python",
   "name": "python",
   "nbconvert_exporter": "python",
   "pygments_lexer": "ipython3",
   "version": "3.7.4"
  }
 },
 "nbformat": 4,
 "nbformat_minor": 2
}
